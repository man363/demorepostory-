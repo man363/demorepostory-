{
 "cells": [
  {
   "cell_type": "code",
   "execution_count": 5,
   "id": "2c983406",
   "metadata": {},
   "outputs": [
    {
     "name": "stdout",
     "output_type": "stream",
     "text": [
      "bama\n"
     ]
    }
   ],
   "source": [
    "print('bama')\n"
   ]
  },
  {
   "cell_type": "code",
   "execution_count": 6,
   "id": "6ab5f571",
   "metadata": {},
   "outputs": [
    {
     "name": "stdout",
     "output_type": "stream",
     "text": [
      "bama\n"
     ]
    }
   ],
   "source": [
    "print(\"bama\")"
   ]
  },
  {
   "cell_type": "code",
   "execution_count": 14,
   "id": "15c9a655",
   "metadata": {},
   "outputs": [
    {
     "name": "stdout",
     "output_type": "stream",
     "text": [
      "bama's name\n"
     ]
    }
   ],
   "source": [
    "print(\"bama's name\")"
   ]
  },
  {
   "cell_type": "code",
   "execution_count": 16,
   "id": "73829516",
   "metadata": {},
   "outputs": [
    {
     "name": "stdout",
     "output_type": "stream",
     "text": [
      "10\n"
     ]
    }
   ],
   "source": [
    "x=10\n",
    "print(x)"
   ]
  },
  {
   "cell_type": "code",
   "execution_count": 26,
   "id": "e05e5ccb",
   "metadata": {},
   "outputs": [
    {
     "name": "stdout",
     "output_type": "stream",
     "text": [
      "40\n"
     ]
    }
   ],
   "source": [
    "y=30\n",
    "print(x+y)"
   ]
  },
  {
   "cell_type": "code",
   "execution_count": null,
   "id": "24fc1f08",
   "metadata": {},
   "outputs": [],
   "source": []
  }
 ],
 "metadata": {
  "kernelspec": {
   "display_name": "Python 3 (ipykernel)",
   "language": "python",
   "name": "python3"
  },
  "language_info": {
   "codemirror_mode": {
    "name": "ipython",
    "version": 3
   },
   "file_extension": ".py",
   "mimetype": "text/x-python",
   "name": "python",
   "nbconvert_exporter": "python",
   "pygments_lexer": "ipython3",
   "version": "3.9.7"
  }
 },
 "nbformat": 4,
 "nbformat_minor": 5
}
